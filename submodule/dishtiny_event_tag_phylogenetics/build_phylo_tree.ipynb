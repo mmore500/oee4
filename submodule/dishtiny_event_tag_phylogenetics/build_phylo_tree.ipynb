{
 "cells": [
  {
   "cell_type": "code",
   "execution_count": 1,
   "id": "48517e47",
   "metadata": {},
   "outputs": [],
   "source": [
    "from Bio import Phylo\n",
    "from Bio.Phylo.TreeConstruction import DistanceMatrix, DistanceTreeConstructor\n",
    "from keyname import keyname as kn\n",
    "from matplotlib import colors as mpl_colors\n",
    "from teeplot import teeplot as tp\n",
    "\n",
    "import Bio\n",
    "import csv\n",
    "import glob\n",
    "import itertools\n",
    "import json\n",
    "import matplotlib.pyplot as plt\n",
    "import matplotlib.font_manager as fm\n",
    "import networkx as nx\n",
    "import numpy as np\n",
    "import pandas as pd\n",
    "import scipy as sci\n",
    "import seaborn as sns\n",
    "import urllib.request as request\n",
    "from copy import deepcopy\n",
    "\n",
    "from etlib.SortableTree.SortableTree import SortableTree, fix_branch_length, to_tril\n",
    "from etlib.PlotTools.PlotTools import enable_pretty_graphing\n",
    "enable_pretty_graphing()"
   ]
  },
  {
   "cell_type": "markdown",
   "id": "c20b7f2a",
   "metadata": {},
   "source": [
    "# get data"
   ]
  },
  {
   "cell_type": "markdown",
   "id": "4715cb3a",
   "metadata": {},
   "source": [
    "## get morphologies"
   ]
  },
  {
   "cell_type": "code",
   "execution_count": 2,
   "id": "ddef4136",
   "metadata": {},
   "outputs": [],
   "source": [
    "morphs = {x['stint']: x[' morph'][1:] for x in pd.read_csv('morphs_by_stint.csv').to_dict(orient='records')}"
   ]
  },
  {
   "cell_type": "markdown",
   "id": "e17dd4ef",
   "metadata": {},
   "source": [
    "## load distance matrix"
   ]
  },
  {
   "cell_type": "code",
   "execution_count": 3,
   "id": "c9b78ba4",
   "metadata": {},
   "outputs": [],
   "source": [
    "matrix = np.loadtxt(\"data/distance_matrix.matrix\")"
   ]
  },
  {
   "cell_type": "markdown",
   "id": "d788b26a",
   "metadata": {},
   "source": [
    "## load stint tags"
   ]
  },
  {
   "cell_type": "code",
   "execution_count": 4,
   "id": "ab0548e2",
   "metadata": {},
   "outputs": [],
   "source": [
    "with open(\"data/stint_tags.json\", 'r') as f:\n",
    "    stint_tags = json.loads(f.read())"
   ]
  },
  {
   "cell_type": "markdown",
   "id": "890b3b39",
   "metadata": {},
   "source": [
    "# generate phylogenetic tree"
   ]
  },
  {
   "cell_type": "code",
   "execution_count": 5,
   "id": "d8f12524",
   "metadata": {},
   "outputs": [],
   "source": [
    "dm = Bio.Phylo.TreeConstruction.DistanceMatrix(\n",
    "    names=[str(x) for x in range(len(stint_tags))],\n",
    "    matrix=to_tril(matrix.T)\n",
    ")\n",
    "# tree = getattr(DistanceTreeConstructor(), 'upgma')(dm)\n",
    "tree = getattr(DistanceTreeConstructor(), 'nj')(dm)"
   ]
  },
  {
   "cell_type": "code",
   "execution_count": 6,
   "id": "5ad5e2e1",
   "metadata": {},
   "outputs": [],
   "source": [
    "fix_branch_length(tree.clade)         \n",
    "sorted_tree = SortableTree(root=tree.clade)\n",
    "sorted_tree.fix_inner_nodes()\n",
    "sorted_tree.sort_tree(reverse=False)"
   ]
  },
  {
   "cell_type": "code",
   "execution_count": 7,
   "id": "bf1e1a33",
   "metadata": {},
   "outputs": [
    {
     "data": {
      "text/plain": [
       "1"
      ]
     },
     "execution_count": 7,
     "metadata": {},
     "output_type": "execute_result"
    }
   ],
   "source": [
    "Phylo.write(sorted_tree, \"data/sorted_phylogenetic_tree.xml\", \"phyloxml\")"
   ]
  },
  {
   "cell_type": "code",
   "execution_count": null,
   "id": "d38ea328",
   "metadata": {},
   "outputs": [],
   "source": []
  }
 ],
 "metadata": {
  "kernelspec": {
   "display_name": "Python 3 (ipykernel)",
   "language": "python",
   "name": "python3"
  },
  "language_info": {
   "codemirror_mode": {
    "name": "ipython",
    "version": 3
   },
   "file_extension": ".py",
   "mimetype": "text/x-python",
   "name": "python",
   "nbconvert_exporter": "python",
   "pygments_lexer": "ipython3",
   "version": "3.10.7"
  }
 },
 "nbformat": 4,
 "nbformat_minor": 5
}
