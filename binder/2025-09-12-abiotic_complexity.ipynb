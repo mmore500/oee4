{
 "cells": [
  {
   "cell_type": "code",
   "execution_count": null,
   "metadata": {},
   "outputs": [],
   "source": [
    "import boto3\n",
    "import botocore\n",
    "import functools\n",
    "from IPython.core.display import display, HTML\n",
    "from iterdub import iterdub as ib\n",
    "from iterpop import iterpop as ip\n",
    "import itertools as it\n",
    "import json\n",
    "import matplotlib\n",
    "import matplotlib.pyplot as plt\n",
    "import math\n",
    "import numpy as np\n",
    "import pandas as pd\n",
    "from pandas.util import hash_pandas_object\n",
    "import seaborn as sns\n",
    "from teeplot import teeplot as tp\n"
   ]
  },
  {
   "cell_type": "code",
   "execution_count": null,
   "metadata": {},
   "outputs": [],
   "source": [
    "from dishpylib.pyanalysis import calc_loglikelihoods_by_num_sets\n",
    "from dishpylib.pyanalysis import count_hands_with_k_or_more_sets\n",
    "from dishpylib.pyanalysis import count_hands_without_k_or_more_sets\n",
    "from dishpylib.pyanalysis import estimate_interpolation_complexity\n",
    "from dishpylib.pyanalysis import calc_loglikelihoods_over_set_sizes\n",
    "from dishpylib.pyhelpers import get_env_context\n",
    "from dishpylib.pyhelpers import get_git_revision_hash\n",
    "from dishpylib.pyhelpers import make_timestamp\n",
    "from dishpylib.pyhelpers import NumpyEncoder\n",
    "from dishpylib.pyhelpers import preprocess_competition_fitnesses\n",
    "from dishpylib.pyhelpers import print_runtime\n"
   ]
  },
  {
   "cell_type": "code",
   "execution_count": null,
   "metadata": {},
   "outputs": [],
   "source": [
    "print_runtime()\n"
   ]
  },
  {
   "cell_type": "code",
   "execution_count": null,
   "metadata": {},
   "outputs": [],
   "source": [
    "teeplot_subdir = \"2025-09-12-abiotic_complexity\"\n"
   ]
  },
  {
   "cell_type": "code",
   "execution_count": null,
   "metadata": {},
   "outputs": [],
   "source": [
    "import boto3\n",
    "import botocore\n",
    "import functools\n",
    "import pandas as pd\n",
    "\n",
    "from dishpylib.pyhelpers import fit_control_t_distns\n",
    "\n",
    "@functools.lru_cache\n",
    "def get_control_t_distns( bucket, endeavor, stint ):\n",
    "\n",
    "    s3_handle = boto3.resource(\n",
    "        's3',\n",
    "        region_name=\"us-east-2\",\n",
    "        config=botocore.config.Config(\n",
    "            signature_version=botocore.UNSIGNED,\n",
    "        ),\n",
    "    )\n",
    "    bucket_handle = s3_handle.Bucket(bucket)\n",
    "\n",
    "    control_competitions, = bucket_handle.objects.filter(\n",
    "        Prefix=f'endeavor={endeavor}/control-competitions/stage=2+what=collated/stint={stint}/',\n",
    "    )\n",
    "\n",
    "    control_df = pd.read_csv(\n",
    "        f's3://{bucket}/{control_competitions.key}',\n",
    "    )\n",
    "\n",
    "    return fit_control_t_distns(control_df[\n",
    "        control_df[\"Root ID\"] == 1\n",
    "    ].copy())\n"
   ]
  },
  {
   "cell_type": "code",
   "execution_count": null,
   "metadata": {},
   "outputs": [],
   "source": [
    "import functools\n",
    "from iterpop import iterpop as ip\n",
    "from scipy import stats\n",
    "\n",
    "\n",
    "def preprocess_competition_fitnesses(competitions_df, control_fits_df):\n",
    "    # preprocess data\n",
    "    @functools.lru_cache\n",
    "    def h0_fit(series):\n",
    "        return ip.popsingleton(\n",
    "            control_fits_df[control_fits_df[\"Series\"] == series].to_dict(\n",
    "                orient=\"records\",\n",
    "            )\n",
    "        )\n",
    "\n",
    "    competitions_df[\"p\"] = competitions_df.apply(\n",
    "        lambda row: stats.t.cdf(\n",
    "            row[\"Fitness Differential\"],\n",
    "            h0_fit(row[\"genome series\"])[\"Fit Degrees of Freedom\"],\n",
    "            loc=h0_fit(row[\"genome series\"])[\"Fit Loc\"],\n",
    "            scale=h0_fit(row[\"genome series\"])[\"Fit Scale\"],\n",
    "        ),\n",
    "        axis=1,\n",
    "    )\n",
    "    competitions_df[\"Is Less Fit\"] = competitions_df[\"p\"] < 1.0 / 40\n",
    "    competitions_df[\"Is More Fit\"] = competitions_df[\"p\"] > (1.0 -  1.0 / 40)\n",
    "    competitions_df[\"Is Neutral\"] = ~(\n",
    "        competitions_df[\"Is Less Fit\"] | competitions_df[\"Is More Fit\"]\n",
    "    )\n",
    "    competitions_df[\"Relative Fitness\"] = competitions_df.apply(\n",
    "        lambda row: (\n",
    "            \"Significantly Advantageous\"\n",
    "            if row[\"Is More Fit\"]\n",
    "            else (\n",
    "                \"Significantly Deleterious\" if row[\"Is Less Fit\"] else \"Neutral\"\n",
    "            )\n",
    "        ),\n",
    "        axis=1,\n",
    "    )\n",
    "\n",
    "    return competitions_df\n"
   ]
  },
  {
   "cell_type": "markdown",
   "metadata": {},
   "source": [
    "# get data\n"
   ]
  },
  {
   "cell_type": "code",
   "execution_count": null,
   "metadata": {},
   "outputs": [],
   "source": [
    "s3_handle = boto3.resource(\n",
    "    's3',\n",
    "    region_name=\"us-east-2\",\n",
    "    config=botocore.config.Config(\n",
    "        signature_version=botocore.UNSIGNED,\n",
    "    ),\n",
    ")\n",
    "bucket_handle = s3_handle.Bucket('prq49')\n",
    "\n",
    "dfs = []\n",
    "for stint in range(1, 101):\n",
    "# for stint in (19,):\n",
    "    print(stint)\n",
    "    series_profiles, = bucket_handle.objects.filter(\n",
    "        Prefix=f'endeavor=16/variant-competitions/stage=3+what=collated/stint={stint}/',\n",
    "    )\n",
    "    control_fits_df = get_control_t_distns('prq49', 16, stint)\n",
    "    df = pd.read_csv(\n",
    "        f's3://prq49/{series_profiles.key}',\n",
    "        compression='xz',\n",
    "    )\n",
    "    df[\"Stint\"] = stint\n",
    "    dfdigest = '{:x}'.format( hash_pandas_object( df ).sum() )\n",
    "    print(dfdigest)\n",
    "    df = preprocess_competition_fitnesses(df, control_fits_df)\n",
    "    dfs.append(df)\n"
   ]
  },
  {
   "cell_type": "code",
   "execution_count": null,
   "metadata": {},
   "outputs": [],
   "source": [
    "df = pd.concat(dfs)\n"
   ]
  },
  {
   "cell_type": "code",
   "execution_count": null,
   "metadata": {},
   "outputs": [],
   "source": [
    "dfx = df[\n",
    "    df[\"Root ID\"] == 1\n",
    "].groupby(\"Stint\").agg(\n",
    "    {\n",
    "        \"Is More Fit\": \"sum\",\n",
    "        \"Is Less Fit\": \"sum\",\n",
    "        \"Is Neutral\": \"sum\",\n",
    "    },\n",
    ")\n",
    "dfx\n"
   ]
  },
  {
   "cell_type": "code",
   "execution_count": null,
   "metadata": {},
   "outputs": [],
   "source": [
    "dfx = dfx.reset_index(drop=False)\n"
   ]
  },
  {
   "cell_type": "code",
   "execution_count": null,
   "metadata": {},
   "outputs": [],
   "source": [
    "sns.lineplot(\n",
    "    data=dfx[\n",
    "        (dfx[\"Stint\"] % 10) != 0\n",
    "    ],\n",
    "    markers=True,\n",
    "    x=\"Stint\",\n",
    "    y=\"Is Less Fit\",\n",
    ")\n",
    "sns.lineplot(\n",
    "    data=dfx[\n",
    "        (dfx[\"Stint\"] % 10) != 0\n",
    "    ],\n",
    "    markers=True,\n",
    "    x=\"Stint\",\n",
    "    y=\"Is More Fit\",\n",
    ")\n",
    "plt.gca().set_ylabel(\"Num Sites\")\n"
   ]
  }
 ],
 "metadata": {
  "kernelspec": {
   "display_name": ".env",
   "language": "python",
   "name": "python3"
  },
  "language_info": {
   "codemirror_mode": {
    "name": "ipython",
    "version": 3
   },
   "file_extension": ".py",
   "mimetype": "text/x-python",
   "name": "python",
   "nbconvert_exporter": "python",
   "pygments_lexer": "ipython3"
  }
 },
 "nbformat": 4,
 "nbformat_minor": 4
}
